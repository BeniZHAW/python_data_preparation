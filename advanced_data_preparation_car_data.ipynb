{
 "cells": [
  {
   "cell_type": "markdown",
   "id": "3272230e",
   "metadata": {},
   "source": [
    "# Advanced Data Preparation with Python (Car Data)"
   ]
  },
  {
   "cell_type": "markdown",
   "id": "c0e6a164",
   "metadata": {},
   "source": [
    "## Libraries and settings"
   ]
  },
  {
   "cell_type": "code",
   "execution_count": null,
   "id": "08b11b70",
   "metadata": {},
   "outputs": [],
   "source": [
    "# Libraries\n",
    "import os\n",
    "import re\n",
    "import time\n",
    "import fnmatch\n",
    "import numpy as np\n",
    "import pandas as pd\n",
    "import seaborn as sns\n",
    "from datetime import datetime\n",
    "import matplotlib.pyplot as plt\n",
    "\n",
    "# Ignore warnings\n",
    "import warnings\n",
    "warnings.filterwarnings(\"ignore\")\n",
    "\n",
    "# Get current working directory\n",
    "print(os.getcwd())"
   ]
  },
  {
   "cell_type": "markdown",
   "id": "2a7bff4a",
   "metadata": {},
   "source": [
    "## Importing data"
   ]
  },
  {
   "cell_type": "code",
   "execution_count": null,
   "id": "63836335",
   "metadata": {},
   "outputs": [],
   "source": [
    "# Import data from csv to pandas dataframe named 'df'\n",
    "df = pd.read_csv('./Data/autoscout24_data.csv', sep=\";\", encoding='utf-8')\n",
    "\n",
    "# Change the column names to lowercase\n",
    "df.columns = df.columns.str.lower()\n",
    "\n",
    "# Display the first 5 rows of the dataframe\n",
    "df.head()\n"
   ]
  },
  {
   "cell_type": "markdown",
   "id": "b95e9f0e",
   "metadata": {},
   "source": [
    "## Count number of rows and columns in the data frame"
   ]
  },
  {
   "cell_type": "code",
   "execution_count": null,
   "id": "8c8982fb",
   "metadata": {},
   "outputs": [],
   "source": [
    "# Count number of rows and columns in the data frame\n",
    "print(\"Number of rows: \", df.shape[0])\n",
    "print(\"Number of columns: \", df.shape[1])"
   ]
  },
  {
   "cell_type": "markdown",
   "id": "ace6d22c",
   "metadata": {},
   "source": [
    "## Get data types (raw-format from web scraper)"
   ]
  },
  {
   "cell_type": "code",
   "execution_count": null,
   "id": "aada7494",
   "metadata": {},
   "outputs": [],
   "source": [
    "# Get data types of each column\n",
    "df.dtypes"
   ]
  },
  {
   "cell_type": "markdown",
   "id": "9ea951fd",
   "metadata": {},
   "source": [
    "## Extract information from raw data using regular expressions (regex)"
   ]
  },
  {
   "cell_type": "markdown",
   "id": "54e63f6f",
   "metadata": {},
   "source": [
    "### Extract numerical values from mileage_raw"
   ]
  },
  {
   "cell_type": "code",
   "execution_count": null,
   "id": "cb833795",
   "metadata": {},
   "outputs": [],
   "source": [
    "# Extract numerical values from mileage_raw\n",
    "mileage = []\n",
    "for i in df['mileage_raw']:\n",
    "    d1 = re.findall('\\d+', i)\n",
    "    if d1:\n",
    "        d2 = int(''.join(d1))\n",
    "    else:\n",
    "        d2 = None\n",
    "    mileage.append(d2)\n",
    "\n",
    "# Save as new variable in the pandas data frame\n",
    "df['mileage'] = pd.Series(mileage, dtype=\"Int64\")\n",
    "\n",
    "# Show first records of data frame\n",
    "df[['mileage_raw', 'mileage']].head()"
   ]
  },
  {
   "cell_type": "markdown",
   "id": "d7f049dc",
   "metadata": {},
   "source": [
    "### Extract numerical values from hp_raw"
   ]
  },
  {
   "cell_type": "code",
   "execution_count": null,
   "id": "87157a58",
   "metadata": {},
   "outputs": [],
   "source": [
    "# Extract numerical values from mileage_raw\n",
    "hp = []\n",
    "for i in df['hp_raw']:\n",
    "    d1 = re.findall('\\d+', i)\n",
    "    if d1:\n",
    "        d2 = int(''.join(d1))\n",
    "    else:\n",
    "        d2 = None\n",
    "    hp.append(d2)\n",
    "\n",
    "# Save as new variable in the pandas data frame\n",
    "df['hp'] = pd.Series(hp, dtype=\"Int64\")\n",
    "\n",
    "# Show first records of data frame\n",
    "df[['hp_raw', 'hp']].head()"
   ]
  },
  {
   "cell_type": "markdown",
   "id": "319ca1bd",
   "metadata": {},
   "source": [
    "### Extract numerical values from price_raw"
   ]
  },
  {
   "cell_type": "code",
   "execution_count": null,
   "id": "2577e032",
   "metadata": {},
   "outputs": [],
   "source": [
    "# Extract numerical values from mileage_raw\n",
    "price = []\n",
    "for i in df['price_raw']:\n",
    "    d1 = re.findall('\\d+', i)\n",
    "    if d1:\n",
    "        d2 = int(''.join(d1))\n",
    "    else:\n",
    "        d2 = None\n",
    "    price.append(d2)\n",
    "\n",
    "# Save as new variable in the pandas data frame\n",
    "df['price'] = pd.Series(price, dtype=\"Int64\")\n",
    "\n",
    "# Show first records of data frame\n",
    "df[['price_raw', 'price']].head()"
   ]
  },
  {
   "cell_type": "markdown",
   "id": "53c03c80",
   "metadata": {},
   "source": [
    "### Get data types of all variables, including the new once"
   ]
  },
  {
   "cell_type": "code",
   "execution_count": null,
   "id": "aa64d342",
   "metadata": {},
   "outputs": [],
   "source": [
    "# Get data types of all variables\n",
    "df.dtypes"
   ]
  },
  {
   "cell_type": "markdown",
   "id": "bad3c2d0",
   "metadata": {},
   "source": [
    "## Count and remove missing values"
   ]
  },
  {
   "cell_type": "code",
   "execution_count": null,
   "id": "2cb2e71c",
   "metadata": {},
   "outputs": [],
   "source": [
    "# Count and remove missing values\n",
    "print(\"Number of missing values in each column: \")\n",
    "print(df.isnull().sum().sum())\n",
    "df = df.dropna()\n",
    "\n",
    "# Reset the index of the dataframe\n",
    "df = df.reset_index(drop=True)\n",
    "df.head()"
   ]
  },
  {
   "cell_type": "markdown",
   "id": "92641a30",
   "metadata": {},
   "source": [
    "## Count and remove duplicated values"
   ]
  },
  {
   "cell_type": "code",
   "execution_count": null,
   "id": "497f0862",
   "metadata": {},
   "outputs": [],
   "source": [
    "# Count and remove duplicates\n",
    "print(\"Number of duplicates: \", df.duplicated().sum())\n",
    "df = df.drop_duplicates()\n",
    "\n",
    "# Reset the index of the dataframe\n",
    "df = df.reset_index(drop=True)\n",
    "df.head()"
   ]
  },
  {
   "cell_type": "markdown",
   "id": "35ff8127",
   "metadata": {},
   "source": [
    "## Use string manipulation methods to create additional variables from the car type"
   ]
  },
  {
   "cell_type": "markdown",
   "id": "3e913110",
   "metadata": {},
   "source": [
    "### Change strings in 'type' to uppercase"
   ]
  },
  {
   "cell_type": "code",
   "execution_count": null,
   "id": "9892b303",
   "metadata": {},
   "outputs": [],
   "source": [
    "# Change strings in 'type' to uppercase and remove leading and trailing whitespaces\n",
    "df['type'] = df['type'].str.upper().str.strip()\n",
    "\n",
    "# Display variable 'type'\n",
    "df['type'].head()"
   ]
  },
  {
   "cell_type": "markdown",
   "id": "0aad2c21",
   "metadata": {},
   "source": [
    "### Calculate length of strings in 'type'"
   ]
  },
  {
   "cell_type": "code",
   "execution_count": null,
   "id": "10a83fdd",
   "metadata": {},
   "outputs": [],
   "source": [
    "# Calculate length of strings in 'type'\n",
    "df['type_len'] = df['type'].str.len()\n",
    "\n",
    "# Display variables 'type' and 'type_len'\n",
    "df[['type', 'type_len']].head()"
   ]
  },
  {
   "cell_type": "markdown",
   "id": "d33d3fd9",
   "metadata": {},
   "source": [
    "### Create binary (0/1) variable 'luxury_car'"
   ]
  },
  {
   "cell_type": "code",
   "execution_count": null,
   "id": "ead7acbe",
   "metadata": {},
   "outputs": [],
   "source": []
  },
  {
   "cell_type": "markdown",
   "id": "48bf12b3",
   "metadata": {},
   "source": [
    "### Create variable 'price_per_hp'"
   ]
  },
  {
   "cell_type": "markdown",
   "id": "f857bfcb",
   "metadata": {},
   "source": []
  },
  {
   "cell_type": "code",
   "execution_count": null,
   "id": "c5090410",
   "metadata": {},
   "outputs": [],
   "source": []
  },
  {
   "cell_type": "markdown",
   "id": "68ea9d52",
   "metadata": {},
   "source": [
    "### Include current datetime as time stamp"
   ]
  },
  {
   "cell_type": "code",
   "execution_count": null,
   "id": "fc2aaaf4",
   "metadata": {},
   "outputs": [],
   "source": []
  },
  {
   "cell_type": "markdown",
   "id": "711a89b8",
   "metadata": {},
   "source": [
    "## Discretization of numerical data"
   ]
  },
  {
   "cell_type": "code",
   "execution_count": 1,
   "id": "11798e2d",
   "metadata": {},
   "outputs": [],
   "source": []
  },
  {
   "cell_type": "markdown",
   "id": "83721bac",
   "metadata": {},
   "source": [
    "## One Hot Encoding"
   ]
  },
  {
   "cell_type": "code",
   "execution_count": null,
   "id": "8ce3985e",
   "metadata": {},
   "outputs": [],
   "source": []
  },
  {
   "cell_type": "markdown",
   "id": "b8180797",
   "metadata": {},
   "source": [
    "## Scaling"
   ]
  },
  {
   "cell_type": "markdown",
   "id": "4833f1c7",
   "metadata": {},
   "source": [
    "### Min-Max Scaling"
   ]
  },
  {
   "cell_type": "code",
   "execution_count": null,
   "id": "15262af8",
   "metadata": {},
   "outputs": [],
   "source": []
  },
  {
   "cell_type": "markdown",
   "id": "e41084a3",
   "metadata": {},
   "source": [
    "### Max-Absolute Scaling"
   ]
  },
  {
   "cell_type": "code",
   "execution_count": null,
   "id": "fbb06012",
   "metadata": {},
   "outputs": [],
   "source": []
  },
  {
   "cell_type": "markdown",
   "id": "3a281e86",
   "metadata": {},
   "source": [
    "### Robust Scaling"
   ]
  },
  {
   "cell_type": "code",
   "execution_count": null,
   "id": "faa7e58e",
   "metadata": {},
   "outputs": [],
   "source": []
  },
  {
   "cell_type": "markdown",
   "id": "862fcc01",
   "metadata": {},
   "source": [
    "## Standardization"
   ]
  },
  {
   "cell_type": "markdown",
   "id": "5c29f286",
   "metadata": {},
   "source": [
    "### Z-score Normalization"
   ]
  },
  {
   "cell_type": "code",
   "execution_count": null,
   "id": "88211811",
   "metadata": {},
   "outputs": [],
   "source": []
  },
  {
   "cell_type": "markdown",
   "id": "e2a2800a",
   "metadata": {},
   "source": [
    "## Transformation"
   ]
  },
  {
   "cell_type": "markdown",
   "id": "639cc9b5",
   "metadata": {},
   "source": [
    "### Log-Transformation"
   ]
  },
  {
   "cell_type": "code",
   "execution_count": null,
   "id": "b77943af",
   "metadata": {},
   "outputs": [],
   "source": []
  },
  {
   "cell_type": "markdown",
   "id": "447420c6",
   "metadata": {},
   "source": [
    "### SQRT-Transformation"
   ]
  },
  {
   "cell_type": "code",
   "execution_count": null,
   "id": "47386a41",
   "metadata": {},
   "outputs": [],
   "source": []
  },
  {
   "cell_type": "markdown",
   "id": "639d6d05",
   "metadata": {},
   "source": [
    "### Box-Cox Transformation"
   ]
  },
  {
   "cell_type": "code",
   "execution_count": null,
   "id": "ede50358",
   "metadata": {},
   "outputs": [],
   "source": []
  },
  {
   "cell_type": "markdown",
   "id": "d766870b",
   "metadata": {},
   "source": [
    "## Combining & organizing data"
   ]
  },
  {
   "cell_type": "markdown",
   "id": "03022398",
   "metadata": {},
   "source": [
    "### Reading car data with geocoded addresses"
   ]
  },
  {
   "cell_type": "code",
   "execution_count": null,
   "id": "08a25ad6",
   "metadata": {},
   "outputs": [],
   "source": []
  },
  {
   "cell_type": "markdown",
   "id": "5698a4db",
   "metadata": {},
   "source": [
    "### Join geo-information to car data using .merge()"
   ]
  },
  {
   "cell_type": "code",
   "execution_count": null,
   "id": "bcefb50a",
   "metadata": {},
   "outputs": [],
   "source": []
  },
  {
   "cell_type": "markdown",
   "id": "ec21f353",
   "metadata": {},
   "source": [
    "### Reading municipality-level data from an .xlsx - file"
   ]
  },
  {
   "cell_type": "code",
   "execution_count": null,
   "id": "27a6e0bc",
   "metadata": {},
   "outputs": [],
   "source": []
  },
  {
   "cell_type": "markdown",
   "id": "c8600d9a",
   "metadata": {},
   "source": [
    "### Join municipality-level data to the car data data using .merge()"
   ]
  },
  {
   "cell_type": "code",
   "execution_count": null,
   "id": "c9587146",
   "metadata": {},
   "outputs": [],
   "source": []
  },
  {
   "cell_type": "markdown",
   "id": "791c9563",
   "metadata": {},
   "source": [
    "### Sorting data"
   ]
  },
  {
   "cell_type": "code",
   "execution_count": null,
   "id": "df71d738",
   "metadata": {},
   "outputs": [],
   "source": []
  },
  {
   "cell_type": "markdown",
   "id": "1aa577f9",
   "metadata": {},
   "source": [
    "### Reshaping data"
   ]
  },
  {
   "cell_type": "markdown",
   "id": "2f70bf89",
   "metadata": {},
   "source": [
    "#### Reshaping data using .stack() and .unstack()"
   ]
  },
  {
   "cell_type": "code",
   "execution_count": null,
   "id": "70d142e6",
   "metadata": {},
   "outputs": [],
   "source": []
  },
  {
   "cell_type": "markdown",
   "id": "1db19bde",
   "metadata": {},
   "source": [
    "#### Reshaping data using .melt()"
   ]
  },
  {
   "cell_type": "code",
   "execution_count": null,
   "id": "02e1d544",
   "metadata": {},
   "outputs": [],
   "source": []
  },
  {
   "cell_type": "markdown",
   "id": "c2991e66",
   "metadata": {},
   "source": [
    "### Pivoting data using .pivot_table()"
   ]
  },
  {
   "cell_type": "code",
   "execution_count": null,
   "id": "f1fed1c4",
   "metadata": {},
   "outputs": [],
   "source": []
  },
  {
   "cell_type": "markdown",
   "id": "9cec2fdf",
   "metadata": {},
   "source": [
    "### Jupyter notebook --footer info-- (please always provide this at the end of each notebook)"
   ]
  },
  {
   "cell_type": "code",
   "execution_count": null,
   "id": "00499ca8",
   "metadata": {},
   "outputs": [],
   "source": [
    "import os\n",
    "import platform\n",
    "import socket\n",
    "from platform import python_version\n",
    "from datetime import datetime\n",
    "\n",
    "print('-----------------------------------')\n",
    "print(os.name.upper())\n",
    "print(platform.system(), '|', platform.release())\n",
    "print('Datetime:', datetime.now().strftime(\"%Y-%m-%d %H:%M:%S\"))\n",
    "print('Python Version:', python_version())\n",
    "print('-----------------------------------')"
   ]
  }
 ],
 "metadata": {
  "kernelspec": {
   "display_name": "gisenv",
   "language": "python",
   "name": "python3"
  },
  "language_info": {
   "codemirror_mode": {
    "name": "ipython",
    "version": 3
   },
   "file_extension": ".py",
   "mimetype": "text/x-python",
   "name": "python",
   "nbconvert_exporter": "python",
   "pygments_lexer": "ipython3",
   "version": "3.11.9"
  }
 },
 "nbformat": 4,
 "nbformat_minor": 5
}
