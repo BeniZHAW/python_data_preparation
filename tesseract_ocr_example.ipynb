{
 "cells": [
  {
   "cell_type": "markdown",
   "id": "deluxe-retention",
   "metadata": {},
   "source": [
    "# Procedural Programming Example: Optical Character Recognition (OCR)"
   ]
  },
  {
   "cell_type": "markdown",
   "id": "unique-laugh",
   "metadata": {},
   "source": [
    "## Install & Import Python libraries"
   ]
  },
  {
   "cell_type": "code",
   "execution_count": 1,
   "id": "narrow-essay",
   "metadata": {},
   "outputs": [
    {
     "ename": "ModuleNotFoundError",
     "evalue": "No module named 'pytesseract'",
     "output_type": "error",
     "traceback": [
      "\u001b[1;31m---------------------------------------------------------------------------\u001b[0m",
      "\u001b[1;31mModuleNotFoundError\u001b[0m                       Traceback (most recent call last)",
      "Cell \u001b[1;32mIn[1], line 4\u001b[0m\n\u001b[0;32m      2\u001b[0m \u001b[38;5;28;01mimport\u001b[39;00m \u001b[38;5;21;01mcv2\u001b[39;00m\n\u001b[0;32m      3\u001b[0m \u001b[38;5;28;01mimport\u001b[39;00m \u001b[38;5;21;01mre\u001b[39;00m\n\u001b[1;32m----> 4\u001b[0m \u001b[38;5;28;01mimport\u001b[39;00m \u001b[38;5;21;01mpytesseract\u001b[39;00m\n\u001b[0;32m      5\u001b[0m \u001b[38;5;28;01mfrom\u001b[39;00m \u001b[38;5;21;01mpytesseract\u001b[39;00m \u001b[38;5;28;01mimport\u001b[39;00m Output\n\u001b[0;32m      6\u001b[0m \u001b[38;5;28;01mimport\u001b[39;00m \u001b[38;5;21;01mnltk\u001b[39;00m\n",
      "\u001b[1;31mModuleNotFoundError\u001b[0m: No module named 'pytesseract'"
     ]
    }
   ],
   "source": [
    "# Libraries\n",
    "import cv2\n",
    "import re\n",
    "import pytesseract\n",
    "from pytesseract import Output\n",
    "import nltk\n",
    "import PIL\n",
    "from PIL import Image\n",
    "\n",
    "print(\"Version of package cv2:\", cv2.__version__)\n",
    "print(\"Version of package re:\", re.__version__)\n",
    "print(\"Version of package pytesseract:\", pytesseract.__version__)\n",
    "print(\"Version of package nltk:\", nltk.__version__)\n",
    "print(\"Version of PIL:\", PIL.__version__)\n",
    "\n",
    "# Ignore warnings\n",
    "import warnings\n",
    "warnings.filterwarnings(\"ignore\")\n",
    "\n",
    "# Get current working directory\n",
    "print(os.getcwd())"
   ]
  },
  {
   "cell_type": "markdown",
   "id": "cac6d63a",
   "metadata": {},
   "source": [
    "## Read and plot digital image of the receipt"
   ]
  },
  {
   "cell_type": "code",
   "execution_count": 2,
   "id": "cb553ddf",
   "metadata": {},
   "outputs": [],
   "source": [
    "# Import and plot image of the receipt\n",
    "img = cv2.imread('receipt.png')\n",
    "\n",
    "cv2.imshow('img', img)\n",
    "cv2.waitKey(0)\n",
    "cv2.destroyAllWindows()"
   ]
  },
  {
   "cell_type": "markdown",
   "id": "piano-council",
   "metadata": {},
   "source": [
    "## Image processing to improve the image quality"
   ]
  },
  {
   "cell_type": "code",
   "execution_count": 3,
   "id": "freelance-antarctica",
   "metadata": {},
   "outputs": [],
   "source": [
    "# Increase brightness function\n",
    "def increase_brightness(img, value=30):\n",
    "    hsv = cv2.cvtColor(img, cv2.COLOR_BGR2HSV)\n",
    "    h, s, v = cv2.split(hsv)\n",
    "\n",
    "    lim = 255 - value\n",
    "    v[v > lim] = 255\n",
    "    v[v <= lim] += value\n",
    "\n",
    "    final_hsv = cv2.merge((h, s, v))\n",
    "    img = cv2.cvtColor(final_hsv, cv2.COLOR_HSV2BGR)\n",
    "    return img\n",
    "\n",
    "# Improve image quality step by step\n",
    "img_01 = cv2.imread('receipt.png')\n",
    "img    = increase_brightness(img_01, value=30) \n",
    "\n",
    "cv2.imshow('img', img)\n",
    "cv2.waitKey(0)\n",
    "cv2.destroyAllWindows()"
   ]
  },
  {
   "cell_type": "markdown",
   "id": "sonic-teddy",
   "metadata": {},
   "source": [
    "## Getting boxes around the text"
   ]
  },
  {
   "cell_type": "code",
   "execution_count": 4,
   "id": "northern-edinburgh",
   "metadata": {},
   "outputs": [],
   "source": [
    "h, w, c = img.shape\n",
    "boxes = pytesseract.image_to_boxes(img, lang='deu')\n",
    "\n",
    "for b in boxes.splitlines():\n",
    "    b = b.split(' ')\n",
    "    img = cv2.rectangle(img, (int(b[1]), h - int(b[2])), (int(b[3]), h - int(b[4])), (0, 255, 0), 1)\n",
    "\n",
    "d = pytesseract.image_to_data(img, output_type=Output.DICT, lang='deu')\n",
    "\n",
    "cv2.imshow('img', img)\n",
    "cv2.waitKey(0)\n",
    "cv2.destroyAllWindows()"
   ]
  },
  {
   "cell_type": "markdown",
   "id": "spare-amateur",
   "metadata": {},
   "source": [
    "## Template Matching"
   ]
  },
  {
   "cell_type": "code",
   "execution_count": 5,
   "id": "interpreted-pickup",
   "metadata": {},
   "outputs": [],
   "source": [
    "img_01 = cv2.imread('receipt.png')\n",
    "img    = increase_brightness(img_01, value=30)\n",
    "\n",
    "d = pytesseract.image_to_data(img, output_type=Output.DICT, lang='deu')\n",
    "keys = list(d.keys())\n",
    "vals = list(d.values())\n",
    "\n",
    "# Mark all numbers using regexpression\n",
    "pattern = '[0-9][0-9]'\n",
    "\n",
    "n_boxes = len(d['text'])\n",
    "for i in range(n_boxes):\n",
    "    if int(d['conf'][i]) >= 20:\n",
    "        if re.match(pattern, d['text'][i]):\n",
    "            (x, y, w, h) = (d['left'][i], d['top'][i], d['width'][i], d['height'][i])\n",
    "            img = cv2.rectangle(img, (x, y), (x + w, y + h), (0,128,255), 2)\n",
    "\n",
    "cv2.imshow('img', img)\n",
    "cv2.waitKey(0)\n",
    "cv2.destroyAllWindows()\n",
    "\n",
    "# Box informations\n",
    "# print(n_boxes)\n",
    "# print(boxes)"
   ]
  },
  {
   "cell_type": "markdown",
   "id": "rising-pollution",
   "metadata": {},
   "source": [
    "## Print content of boxes around the text"
   ]
  },
  {
   "cell_type": "code",
   "execution_count": 6,
   "id": "hindu-industry",
   "metadata": {},
   "outputs": [
    {
     "name": "stdout",
     "output_type": "stream",
     "text": [
      "B 214 827 229 853 0\n",
      "e 233 827 247 848 0\n",
      "r 251 827 263 847 0\n",
      "g 270 824 284 847 0\n",
      "h 288 827 303 853 0\n",
      "o 307 827 321 847 0\n",
      "t 325 827 340 853 0\n",
      "e 344 827 358 847 0\n",
      "l 366 826 375 852 0\n",
      "\n"
     ]
    },
    {
     "data": {
      "text/plain": [
       "['Rech.', 'Nr.', '4572', '30.07.2007/13:29:']"
      ]
     },
     "execution_count": 6,
     "metadata": {},
     "output_type": "execute_result"
    }
   ],
   "source": [
    "# Total number of text-boxes\n",
    "# print(n_boxes)\n",
    "\n",
    "# Boxes\n",
    "boxes = pytesseract.image_to_boxes(img, lang='deu')\n",
    "print(boxes[0:180])\n",
    "\n",
    "# Keys\n",
    "# print(d.keys())\n",
    "\n",
    "# Values\n",
    "list(d.values())[11][17:21]"
   ]
  },
  {
   "cell_type": "code",
   "execution_count": 7,
   "id": "heard-headset",
   "metadata": {},
   "outputs": [
    {
     "name": "stdout",
     "output_type": "stream",
     "text": [
      "Berdhotel\n",
      "Grosse Scheidegg\n",
      "3818 Grindelwald\n",
      "Familie R.Müller\n",
      "\n",
      "Rech. Nr. 4572 30.07. 2007/13:29: 17\n",
      "Bar Tisch (/0M\n",
      "2xLatte Macchiato ä 4.50 CHF 9.00\n",
      "1xGloki 8 500 HE 5.00\n",
      "1xSchweinschnitzel ä 22.00 CHF 22.00\n",
      "1xChässpätz 1i &a 1850° CHE 18050\n",
      "\n",
      "Total : CHF 54.50\n",
      "Incl. 7.6% MwSt 54.50 CHF: 3.85\n",
      "\n",
      "Entspricht in Euro 36.33 EUR\n",
      "Es bediente Sie: Ursula\n",
      "\n",
      "MwSt Nr. : 430 234\n",
      "Tel. : 033 853 67 16\n",
      "Fax.: 053853 649\n",
      "E-mail: grossescheidegg@bluewin. ch\n",
      "\f\n",
      "\n"
     ]
    }
   ],
   "source": [
    "def replace_chars(text):\n",
    "    \"\"\"\n",
    "    Replaces all characters instead of numbers from 'text'.\n",
    "    :param text: Text string to be filtered\n",
    "    :return: Resulting number\n",
    "    \"\"\"\n",
    "    list_of_numbers = re.findall(r'\\d+', text)\n",
    "    result_number = '|'.join(list_of_numbers)\n",
    "    return result_number\n",
    "\n",
    "\n",
    "ocr_result = pytesseract.image_to_string(Image.open('receipt.png'), lang='deu')\n",
    "\n",
    "print(ocr_result)"
   ]
  },
  {
   "cell_type": "markdown",
   "id": "postal-camping",
   "metadata": {},
   "source": [
    "## Write Text to File"
   ]
  },
  {
   "cell_type": "code",
   "execution_count": 8,
   "id": "august-match",
   "metadata": {},
   "outputs": [
    {
     "name": "stdout",
     "output_type": "stream",
     "text": [
      "[['Grosse', 'Scheidegg'], ['3818', 'Grindelwald'], ['Familie', 'R.Müller']]\n"
     ]
    }
   ],
   "source": [
    "parse_text = []\n",
    "word_list  = []\n",
    "last_word  = ''\n",
    "\n",
    "for word in d['text']:\n",
    "    if word!='':\n",
    "        word_list.append(word)\n",
    "        last_word = word\n",
    "    if (last_word!='' and word == '') or (word==d['text'][-1]):\n",
    "        parse_text.append(word_list)\n",
    "        word_list = []\n",
    "\n",
    "print(parse_text[1:4])\n",
    "\n",
    "# Write to .csv-file\n",
    "import csv\n",
    "with open('result_text.txt',  'w', newline=\"\") as file:\n",
    "          csv.writer(file, delimiter=\" \").writerows(parse_text)"
   ]
  },
  {
   "cell_type": "markdown",
   "id": "stone-inspiration",
   "metadata": {},
   "source": [
    "## Simple Language-Model"
   ]
  },
  {
   "cell_type": "code",
   "execution_count": 15,
   "id": "forward-thumb",
   "metadata": {},
   "outputs": [],
   "source": [
    "import nltk\n",
    "# nltk.download('reuters')\n",
    "# nltk.download('punkt')\n",
    "from nltk.corpus import reuters\n",
    "from nltk import bigrams, trigrams\n",
    "from collections import Counter, defaultdict\n",
    "\n",
    "# Create a placeholder for the model\n",
    "model = defaultdict(lambda: defaultdict(lambda: 0))\n",
    "\n",
    "# Count frequency of co-occurence  \n",
    "for sentence in reuters.sents():\n",
    "    for w1, w2, w3 in trigrams(sentence, pad_right=True, pad_left=True):\n",
    "        model[(w1, w2)][w3] += 1\n",
    "\n",
    "# Let's transform the counts to probabilities\n",
    "for w1_w2 in model:\n",
    "    total_count = float(sum(model[w1_w2].values()))\n",
    "    for w3 in model[w1_w2]:\n",
    "        model[w1_w2][w3] /= total_count"
   ]
  },
  {
   "cell_type": "code",
   "execution_count": 13,
   "id": "integrated-grammar",
   "metadata": {},
   "outputs": [
    {
     "name": "stdout",
     "output_type": "stream",
     "text": [
      "company 0.16666666666666666\n",
      "price 0.1111111111111111\n",
      "public 0.05555555555555555\n",
      "European 0.05555555555555555\n",
      "Bank 0.05555555555555555\n",
      "emirate 0.05555555555555555\n",
      "overseas 0.05555555555555555\n",
      "newspaper 0.05555555555555555\n",
      "Turkish 0.05555555555555555\n",
      "increase 0.05555555555555555\n"
     ]
    }
   ],
   "source": [
    "# Apply language model\n",
    "terms = dict(model[\"today\", \"the\"])\n",
    "sorted_terms = sorted(terms.items(), key=lambda x: x[1], reverse=True)\n",
    "\n",
    "# Next word according to its probability\n",
    "for i in sorted_terms[0:10]:\n",
    "    print(i[0], i[1])"
   ]
  },
  {
   "cell_type": "markdown",
   "id": "aa3ee2f2",
   "metadata": {},
   "source": [
    "### Jupyter notebook --footer info-- (please always provide this at the end of each notebook)"
   ]
  },
  {
   "cell_type": "code",
   "execution_count": null,
   "id": "14aff4ca",
   "metadata": {},
   "outputs": [],
   "source": [
    "import os\n",
    "import platform\n",
    "import socket\n",
    "from platform import python_version\n",
    "from datetime import datetime\n",
    "\n",
    "print('-----------------------------------')\n",
    "print(os.name.upper())\n",
    "print(platform.system(), '|', platform.release())\n",
    "print('Datetime:', datetime.now().strftime(\"%Y-%m-%d %H:%M:%S\"))\n",
    "print('Python Version:', python_version())\n",
    "print('-----------------------------------')"
   ]
  }
 ],
 "metadata": {
  "kernelspec": {
   "display_name": "dsenv",
   "language": "python",
   "name": "python3"
  },
  "language_info": {
   "codemirror_mode": {
    "name": "ipython",
    "version": 3
   },
   "file_extension": ".py",
   "mimetype": "text/x-python",
   "name": "python",
   "nbconvert_exporter": "python",
   "pygments_lexer": "ipython3",
   "version": "3.12.4"
  }
 },
 "nbformat": 4,
 "nbformat_minor": 5
}
